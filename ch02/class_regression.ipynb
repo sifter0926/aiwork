{
 "cells": [
  {
   "cell_type": "code",
   "execution_count": 1,
   "metadata": {},
   "outputs": [],
   "source": [
    "import torch\n",
    "import torch.nn as nn\n",
    "import torch.nn.functional as F\n",
    "import torch.optim as optim\n",
    "import numpy as np"
   ]
  },
  {
   "cell_type": "code",
   "execution_count": 2,
   "metadata": {},
   "outputs": [],
   "source": [
    "torch.manual_seed(1)\n",
    "x_data=torch.FloatTensor([[1],[2],[3],[4],[5]])\n",
    "t_data=torch.FloatTensor([[3],[5],[7],[9],[11]])"
   ]
  },
  {
   "cell_type": "code",
   "execution_count": 3,
   "metadata": {},
   "outputs": [],
   "source": [
    "class LinearRegressionModel(nn.Module):\n",
    "    def __init__(self):\n",
    "        super().__init__()\n",
    "        self.linear=nn.Linear(1,1)\n",
    "\n",
    "    def forward(self, x):\n",
    "        return self.linear(x)"
   ]
  },
  {
   "cell_type": "code",
   "execution_count": 8,
   "metadata": {},
   "outputs": [
    {
     "name": "stdout",
     "output_type": "stream",
     "text": [
      "LinearRegressionModel(\n",
      "  (linear): Linear(in_features=1, out_features=1, bias=True)\n",
      ")\n"
     ]
    }
   ],
   "source": [
    "model=LinearRegressionModel()\n",
    "print(model)\n",
    "optimizer=optim.SGD(model.parameters(), lr=0.01)"
   ]
  },
  {
   "cell_type": "code",
   "execution_count": 10,
   "metadata": {},
   "outputs": [
    {
     "name": "stdout",
     "output_type": "stream",
     "text": [
      "0 3.5098217665563425e-08 [Parameter containing:\n",
      "tensor([[1.9999]], requires_grad=True), Parameter containing:\n",
      "tensor([1.0004], requires_grad=True)]\n",
      "100 1.7964021381544626e-08 [Parameter containing:\n",
      "tensor([[1.9999]], requires_grad=True), Parameter containing:\n",
      "tensor([1.0003], requires_grad=True)]\n",
      "200 9.116865484770642e-09 [Parameter containing:\n",
      "tensor([[1.9999]], requires_grad=True), Parameter containing:\n",
      "tensor([1.0002], requires_grad=True)]\n",
      "300 4.614093995769508e-09 [Parameter containing:\n",
      "tensor([[2.0000]], requires_grad=True), Parameter containing:\n",
      "tensor([1.0002], requires_grad=True)]\n",
      "400 2.3940629478858e-09 [Parameter containing:\n",
      "tensor([[2.0000]], requires_grad=True), Parameter containing:\n",
      "tensor([1.0001], requires_grad=True)]\n",
      "500 1.2107648217352107e-09 [Parameter containing:\n",
      "tensor([[2.0000]], requires_grad=True), Parameter containing:\n",
      "tensor([1.0001], requires_grad=True)]\n",
      "600 6.080881354009193e-10 [Parameter containing:\n",
      "tensor([[2.0000]], requires_grad=True), Parameter containing:\n",
      "tensor([1.0001], requires_grad=True)]\n",
      "700 3.459717790033068e-10 [Parameter containing:\n",
      "tensor([[2.0000]], requires_grad=True), Parameter containing:\n",
      "tensor([1.0000], requires_grad=True)]\n",
      "800 1.8389982592292853e-10 [Parameter containing:\n",
      "tensor([[2.0000]], requires_grad=True), Parameter containing:\n",
      "tensor([1.0000], requires_grad=True)]\n",
      "900 7.644303245957218e-11 [Parameter containing:\n",
      "tensor([[2.0000]], requires_grad=True), Parameter containing:\n",
      "tensor([1.0000], requires_grad=True)]\n",
      "1000 7.644303245957218e-11 [Parameter containing:\n",
      "tensor([[2.0000]], requires_grad=True), Parameter containing:\n",
      "tensor([1.0000], requires_grad=True)]\n",
      "1100 7.644303245957218e-11 [Parameter containing:\n",
      "tensor([[2.0000]], requires_grad=True), Parameter containing:\n",
      "tensor([1.0000], requires_grad=True)]\n",
      "1200 7.644303245957218e-11 [Parameter containing:\n",
      "tensor([[2.0000]], requires_grad=True), Parameter containing:\n",
      "tensor([1.0000], requires_grad=True)]\n",
      "1300 7.644303245957218e-11 [Parameter containing:\n",
      "tensor([[2.0000]], requires_grad=True), Parameter containing:\n",
      "tensor([1.0000], requires_grad=True)]\n",
      "1400 7.644303245957218e-11 [Parameter containing:\n",
      "tensor([[2.0000]], requires_grad=True), Parameter containing:\n",
      "tensor([1.0000], requires_grad=True)]\n",
      "1500 7.644303245957218e-11 [Parameter containing:\n",
      "tensor([[2.0000]], requires_grad=True), Parameter containing:\n",
      "tensor([1.0000], requires_grad=True)]\n",
      "1600 7.644303245957218e-11 [Parameter containing:\n",
      "tensor([[2.0000]], requires_grad=True), Parameter containing:\n",
      "tensor([1.0000], requires_grad=True)]\n",
      "1700 7.644303245957218e-11 [Parameter containing:\n",
      "tensor([[2.0000]], requires_grad=True), Parameter containing:\n",
      "tensor([1.0000], requires_grad=True)]\n",
      "1800 7.644303245957218e-11 [Parameter containing:\n",
      "tensor([[2.0000]], requires_grad=True), Parameter containing:\n",
      "tensor([1.0000], requires_grad=True)]\n",
      "1900 7.644303245957218e-11 [Parameter containing:\n",
      "tensor([[2.0000]], requires_grad=True), Parameter containing:\n",
      "tensor([1.0000], requires_grad=True)]\n",
      "2000 7.644303245957218e-11 [Parameter containing:\n",
      "tensor([[2.0000]], requires_grad=True), Parameter containing:\n",
      "tensor([1.0000], requires_grad=True)]\n"
     ]
    }
   ],
   "source": [
    "epochs=2001\n",
    "\n",
    "for epoch in range(epochs):\n",
    "    y=model(x_data)\n",
    "    cost=F.mse_loss(y, t_data)\n",
    "\n",
    "    optimizer.zero_grad()\n",
    "    cost.backward()\n",
    "    optimizer.step()\n",
    "\n",
    "    if epoch%100==0:\n",
    "        print(epoch, cost.item(), list(model.parameters()))"
   ]
  },
  {
   "cell_type": "code",
   "execution_count": 15,
   "metadata": {},
   "outputs": [
    {
     "name": "stdout",
     "output_type": "stream",
     "text": [
      "tensor([[15.0000],\n",
      "        [17.0000]], grad_fn=<AddmmBackward0>)\n"
     ]
    }
   ],
   "source": [
    "predict=model(torch.FloatTensor([[7],[8]]))\n",
    "print(predict)"
   ]
  },
  {
   "cell_type": "code",
   "execution_count": 28,
   "metadata": {},
   "outputs": [
    {
     "name": "stdout",
     "output_type": "stream",
     "text": [
      "(25, 3) (25,)\n",
      "(25, 3) (25, 1)\n",
      "<class 'numpy.ndarray'> <class 'numpy.ndarray'>\n",
      "<class 'torch.Tensor'> <class 'torch.Tensor'>\n",
      "3\n"
     ]
    }
   ],
   "source": [
    "import pandas as pd\n",
    "df=pd.read_csv('../data/data-01-test-score.csv', header=None)\n",
    "x_data=df.values[:,:-1]\n",
    "t_data=df.values[:,-1]\n",
    "print(x_data.shape, t_data.shape)\n",
    "t_data=t_data.reshape(-1, 1)\n",
    "print(x_data.shape, t_data.shape)\n",
    "print(type(x_data), type(t_data))\n",
    "\n",
    "x_data1=torch.from_numpy(x_data)\n",
    "t_data1=torch.from_numpy(t_data)\n",
    "print(type(x_data1), type(t_data1))\n",
    "\n",
    "indim=x_data1.size(1)\n",
    "print(indim)"
   ]
  },
  {
   "cell_type": "code",
   "execution_count": null,
   "metadata": {},
   "outputs": [],
   "source": [
    "class MultiLinearRegressionModel(nn.Module):\n",
    "    def __init__(self):\n",
    "        super().__init__()\n",
    "        self.linear=nn.Linear(indim,1)\n",
    "\n",
    "    def forward(self, x):\n",
    "        return self.linear(x)"
   ]
  }
 ],
 "metadata": {
  "kernelspec": {
   "display_name": "base",
   "language": "python",
   "name": "python3"
  },
  "language_info": {
   "codemirror_mode": {
    "name": "ipython",
    "version": 3
   },
   "file_extension": ".py",
   "mimetype": "text/x-python",
   "name": "python",
   "nbconvert_exporter": "python",
   "pygments_lexer": "ipython3",
   "version": "3.12.7"
  }
 },
 "nbformat": 4,
 "nbformat_minor": 2
}
