{
 "cells": [
  {
   "cell_type": "code",
   "execution_count": 1,
   "metadata": {},
   "outputs": [],
   "source": [
    "a=10"
   ]
  },
  {
   "cell_type": "code",
   "execution_count": 2,
   "metadata": {},
   "outputs": [],
   "source": [
    "b=10"
   ]
  },
  {
   "cell_type": "code",
   "execution_count": 3,
   "metadata": {},
   "outputs": [
    {
     "data": {
      "text/plain": [
       "20"
      ]
     },
     "execution_count": 3,
     "metadata": {},
     "output_type": "execute_result"
    }
   ],
   "source": [
    "a+b"
   ]
  },
  {
   "cell_type": "code",
   "execution_count": 4,
   "metadata": {},
   "outputs": [
    {
     "name": "stdout",
     "output_type": "stream",
     "text": [
      "Requirement already satisfied: torch in c:\\users\\it\\anaconda3\\lib\\site-packages (2.5.1)\n",
      "Requirement already satisfied: filelock in c:\\users\\it\\anaconda3\\lib\\site-packages (from torch) (3.13.1)\n",
      "Requirement already satisfied: typing-extensions>=4.8.0 in c:\\users\\it\\anaconda3\\lib\\site-packages (from torch) (4.11.0)\n",
      "Requirement already satisfied: networkx in c:\\users\\it\\anaconda3\\lib\\site-packages (from torch) (3.3)\n",
      "Requirement already satisfied: jinja2 in c:\\users\\it\\anaconda3\\lib\\site-packages (from torch) (3.1.4)\n",
      "Requirement already satisfied: fsspec in c:\\users\\it\\anaconda3\\lib\\site-packages (from torch) (2024.6.1)\n",
      "Requirement already satisfied: setuptools in c:\\users\\it\\anaconda3\\lib\\site-packages (from torch) (75.1.0)\n",
      "Requirement already satisfied: sympy==1.13.1 in c:\\users\\it\\anaconda3\\lib\\site-packages (from torch) (1.13.1)\n",
      "Requirement already satisfied: mpmath<1.4,>=1.1.0 in c:\\users\\it\\anaconda3\\lib\\site-packages (from sympy==1.13.1->torch) (1.3.0)\n",
      "Requirement already satisfied: MarkupSafe>=2.0 in c:\\users\\it\\anaconda3\\lib\\site-packages (from jinja2->torch) (2.1.3)\n"
     ]
    }
   ],
   "source": [
    "! pip install torch"
   ]
  },
  {
   "cell_type": "code",
   "execution_count": 5,
   "metadata": {},
   "outputs": [
    {
     "data": {
      "text/plain": [
       "tensor([1, 2, 3])"
      ]
     },
     "execution_count": 5,
     "metadata": {},
     "output_type": "execute_result"
    }
   ],
   "source": [
    "import torch\n",
    "t1=torch.tensor([1,2,3])\n",
    "t1"
   ]
  },
  {
   "cell_type": "code",
   "execution_count": 6,
   "metadata": {},
   "outputs": [
    {
     "data": {
      "text/plain": [
       "tensor([[1, 2, 3],\n",
       "        [4, 5, 6]])"
      ]
     },
     "execution_count": 6,
     "metadata": {},
     "output_type": "execute_result"
    }
   ],
   "source": [
    "t2=torch.tensor([[1,2,3],[4,5,6]])\n",
    "t2"
   ]
  },
  {
   "cell_type": "code",
   "execution_count": 7,
   "metadata": {},
   "outputs": [
    {
     "name": "stdout",
     "output_type": "stream",
     "text": [
      "tensor([[1, 2],\n",
      "        [4, 5]])\n",
      "tensor([[1, 2, 3],\n",
      "        [4, 5, 6]])\n",
      "tensor([[1., 2.],\n",
      "        [3., 4.]], dtype=torch.float64)\n"
     ]
    }
   ],
   "source": [
    "t1=torch.tensor([[1,2],[4,5]])\n",
    "#t2=torch.tensor([[1,2],[3,4]], device=\"cuda:0\")\n",
    "t3=torch.tensor([[1,2],[3,4]], dtype=torch.float64)\n",
    "print(t1)\n",
    "print(t2)\n",
    "print(t3)"
   ]
  },
  {
   "cell_type": "code",
   "execution_count": 8,
   "metadata": {},
   "outputs": [
    {
     "name": "stdout",
     "output_type": "stream",
     "text": [
      "tensor([[1., 2.],\n",
      "        [3., 4.]])\n",
      "tensor([[1, 2],\n",
      "        [3, 4]])\n",
      "tensor([[1, 2],\n",
      "        [3, 4]], dtype=torch.uint8)\n"
     ]
    }
   ],
   "source": [
    "tf=torch.FloatTensor([[1,2],[3,4]])\n",
    "tl=torch.LongTensor([[1,2],[3,4]])\n",
    "tb=torch.ByteTensor([[1,2],[3,4]])\n",
    "\n",
    "print(tf)\n",
    "print(tl)\n",
    "print(tb)"
   ]
  },
  {
   "cell_type": "code",
   "execution_count": 9,
   "metadata": {},
   "outputs": [
    {
     "name": "stdout",
     "output_type": "stream",
     "text": [
      "[[1 2]\n",
      " [3 4]]\n",
      "<class 'numpy.ndarray'>\n"
     ]
    }
   ],
   "source": [
    "import numpy as np\n",
    "x=np.array([[1,2],[3,4]])\n",
    "print(x)\n",
    "print(type(x))"
   ]
  },
  {
   "cell_type": "code",
   "execution_count": 10,
   "metadata": {},
   "outputs": [
    {
     "name": "stdout",
     "output_type": "stream",
     "text": [
      "tensor([[1, 2],\n",
      "        [3, 4]], dtype=torch.int32)\n"
     ]
    }
   ],
   "source": [
    "t=torch.from_numpy(x)\n",
    "print(t)"
   ]
  },
  {
   "cell_type": "code",
   "execution_count": 11,
   "metadata": {},
   "outputs": [
    {
     "name": "stdout",
     "output_type": "stream",
     "text": [
      "[[1 2]\n",
      " [3 4]]\n",
      "<class 'numpy.ndarray'>\n"
     ]
    }
   ],
   "source": [
    "x1=t.numpy()\n",
    "print(x1)\n",
    "print(type(x1))"
   ]
  },
  {
   "cell_type": "code",
   "execution_count": 12,
   "metadata": {},
   "outputs": [
    {
     "name": "stdout",
     "output_type": "stream",
     "text": [
      "tensor([[1, 2],\n",
      "        [3, 4]])\n"
     ]
    }
   ],
   "source": [
    "print(tf.long())"
   ]
  },
  {
   "cell_type": "code",
   "execution_count": 13,
   "metadata": {},
   "outputs": [
    {
     "name": "stdout",
     "output_type": "stream",
     "text": [
      "tensor([[1., 2.],\n",
      "        [3., 4.]])\n"
     ]
    }
   ],
   "source": [
    "print(tl.float())"
   ]
  },
  {
   "cell_type": "code",
   "execution_count": 14,
   "metadata": {},
   "outputs": [
    {
     "name": "stdout",
     "output_type": "stream",
     "text": [
      "tensor([[1, 2],\n",
      "        [3, 4]], dtype=torch.uint8)\n"
     ]
    }
   ],
   "source": [
    "print(tf.byte())"
   ]
  },
  {
   "cell_type": "markdown",
   "metadata": {},
   "source": [
    "텐서 크기 구하기"
   ]
  },
  {
   "cell_type": "code",
   "execution_count": 15,
   "metadata": {},
   "outputs": [
    {
     "data": {
      "text/plain": [
       "array([[[ 1,  2],\n",
       "        [ 3,  4]],\n",
       "\n",
       "       [[ 5,  6],\n",
       "        [ 7,  8]],\n",
       "\n",
       "       [[ 9, 10],\n",
       "        [11, 12]]])"
      ]
     },
     "execution_count": 15,
     "metadata": {},
     "output_type": "execute_result"
    }
   ],
   "source": [
    "x=np.arange(1,13).reshape(3,2,2)\n",
    "x"
   ]
  },
  {
   "cell_type": "code",
   "execution_count": 16,
   "metadata": {},
   "outputs": [
    {
     "data": {
      "text/plain": [
       "tensor([[[ 1,  2],\n",
       "         [ 3,  4]],\n",
       "\n",
       "        [[ 5,  6],\n",
       "         [ 7,  8]],\n",
       "\n",
       "        [[ 9, 10],\n",
       "         [11, 12]]], dtype=torch.int32)"
      ]
     },
     "execution_count": 16,
     "metadata": {},
     "output_type": "execute_result"
    }
   ],
   "source": [
    "tx=torch.from_numpy(x)\n",
    "tx"
   ]
  },
  {
   "cell_type": "code",
   "execution_count": 17,
   "metadata": {},
   "outputs": [
    {
     "name": "stdout",
     "output_type": "stream",
     "text": [
      "numpy 배열 크기 (3, 2, 2)\n",
      "tensor 크기 torch.Size([3, 2, 2])\n",
      "torch.Size([3, 2, 2])\n",
      "3\n",
      "3\n",
      "2\n",
      "2\n",
      "2\n",
      "차원의 수 3\n",
      "차원의 수 3\n"
     ]
    }
   ],
   "source": [
    "print('numpy 배열 크기',x.shape)\n",
    "print('tensor 크기', tx.shape)\n",
    "print(tx.size())\n",
    "print(tx.shape[0])\n",
    "print(tx.size(0))\n",
    "print(tx.size(1))\n",
    "print(tx.size(2))\n",
    "print(tx.size(-1))\n",
    "print('차원의 수',tx.dim())\n",
    "print('차원의 수',len(tx.size()))"
   ]
  },
  {
   "cell_type": "code",
   "execution_count": 18,
   "metadata": {},
   "outputs": [
    {
     "name": "stdout",
     "output_type": "stream",
     "text": [
      "[[1 2]\n",
      " [3 4]]\n",
      "[[2 4]\n",
      " [6 8]]\n",
      "tensor([[1, 2],\n",
      "        [3, 4]], dtype=torch.int32)\n",
      "tensor([[2, 4],\n",
      "        [6, 8]], dtype=torch.int32)\n"
     ]
    }
   ],
   "source": [
    "a=np.arange(1,5).reshape(2,2)\n",
    "b=np.arange(2,10,2).reshape(2,2)\n",
    "print(a)\n",
    "print(b)\n",
    "ta=torch.from_numpy(a)\n",
    "tb=torch.from_numpy(b)\n",
    "print(ta)\n",
    "print(tb)"
   ]
  },
  {
   "cell_type": "markdown",
   "metadata": {},
   "source": [
    "tensor의 연산"
   ]
  },
  {
   "cell_type": "code",
   "execution_count": 19,
   "metadata": {},
   "outputs": [
    {
     "name": "stdout",
     "output_type": "stream",
     "text": [
      "tensor([[ 3,  6],\n",
      "        [ 9, 12]], dtype=torch.int32)\n",
      "tensor([[-1, -2],\n",
      "        [-3, -4]], dtype=torch.int32)\n",
      "tensor([[ 2,  8],\n",
      "        [18, 32]], dtype=torch.int32)\n",
      "tensor([[0.5000, 0.5000],\n",
      "        [0.5000, 0.5000]])\n",
      "tensor([[0, 0],\n",
      "        [0, 0]], dtype=torch.int32)\n",
      "tensor([[False, False],\n",
      "        [False, False]])\n",
      "tensor([[True, True],\n",
      "        [True, True]])\n",
      "tensor([[    1,    16],\n",
      "        [  729, 65536]], dtype=torch.int32)\n"
     ]
    }
   ],
   "source": [
    "print(ta+tb)\n",
    "print(ta-tb)\n",
    "print(ta*tb)\n",
    "print(ta/tb)\n",
    "print(ta//tb)\n",
    "print(ta==tb)\n",
    "print(ta != tb)\n",
    "print(ta**tb)"
   ]
  },
  {
   "cell_type": "code",
   "execution_count": 20,
   "metadata": {},
   "outputs": [
    {
     "data": {
      "text/plain": [
       "tensor([[1, 2],\n",
       "        [3, 4]], dtype=torch.int32)"
      ]
     },
     "execution_count": 20,
     "metadata": {},
     "output_type": "execute_result"
    }
   ],
   "source": [
    "ta+tb\n",
    "ta"
   ]
  },
  {
   "cell_type": "code",
   "execution_count": 21,
   "metadata": {},
   "outputs": [
    {
     "name": "stdout",
     "output_type": "stream",
     "text": [
      "tensor([[1, 2],\n",
      "        [3, 4]], dtype=torch.int32)\n",
      "tensor([[ 2,  8],\n",
      "        [18, 32]], dtype=torch.int32)\n",
      "tensor([[ 2,  8],\n",
      "        [18, 32]], dtype=torch.int32)\n"
     ]
    }
   ],
   "source": [
    "print(ta)\n",
    "print(ta.mul_(tb))   # ta=ta*tb\n",
    "print(ta)"
   ]
  },
  {
   "cell_type": "code",
   "execution_count": 22,
   "metadata": {},
   "outputs": [
    {
     "data": {
      "text/plain": [
       "tensor([[1, 2, 3],\n",
       "        [4, 5, 6],\n",
       "        [7, 8, 9]], dtype=torch.int32)"
      ]
     },
     "execution_count": 22,
     "metadata": {},
     "output_type": "execute_result"
    }
   ],
   "source": [
    "x=np.arange(1,10).reshape(3,3)\n",
    "tx=torch.from_numpy(x)\n",
    "tx"
   ]
  },
  {
   "cell_type": "code",
   "execution_count": 23,
   "metadata": {},
   "outputs": [
    {
     "name": "stdout",
     "output_type": "stream",
     "text": [
      "tensor(45)\n",
      "5.0\n",
      "tensor([12, 15, 18])\n",
      "tensor([ 6, 15, 24])\n",
      "tensor([ 6, 15, 24])\n"
     ]
    }
   ],
   "source": [
    "print(tx.sum())\n",
    "print(x.mean())\n",
    "print(tx.sum(dim=0))\n",
    "print(tx.sum(dim=1))\n",
    "print(tx.sum(dim=-1))"
   ]
  },
  {
   "cell_type": "code",
   "execution_count": 24,
   "metadata": {},
   "outputs": [
    {
     "name": "stdout",
     "output_type": "stream",
     "text": [
      "tensor([[1, 2],\n",
      "        [3, 4]], dtype=torch.int32)\n",
      "tensor([[2, 3],\n",
      "        [4, 5]], dtype=torch.int32)\n"
     ]
    }
   ],
   "source": [
    "x=np.arange(1,5).reshape(2,2)\n",
    "t1=torch.from_numpy(x)\n",
    "y=1\n",
    "print(t1)\n",
    "print(t1+y)"
   ]
  },
  {
   "cell_type": "code",
   "execution_count": 25,
   "metadata": {},
   "outputs": [
    {
     "name": "stdout",
     "output_type": "stream",
     "text": [
      "tensor([[1, 2],\n",
      "        [3, 4]], dtype=torch.int32)\n",
      "tensor([1, 2])\n",
      "tensor([[2, 4],\n",
      "        [4, 6]])\n"
     ]
    }
   ],
   "source": [
    "t2=torch.tensor([1,2])\n",
    "print(t1)\n",
    "print(t2)\n",
    "print(t1+t2)"
   ]
  },
  {
   "cell_type": "code",
   "execution_count": 26,
   "metadata": {},
   "outputs": [
    {
     "name": "stdout",
     "output_type": "stream",
     "text": [
      "tensor([[1, 2],\n",
      "        [3, 4]], dtype=torch.int32)\n",
      "[[1 2 3]\n",
      " [4 5 6]]\n"
     ]
    }
   ],
   "source": [
    "t3=np.arange(1,7).reshape(2,3)\n",
    "print(t1)\n",
    "print(t3)\n",
    "#print(t1+t3)"
   ]
  },
  {
   "cell_type": "code",
   "execution_count": 27,
   "metadata": {},
   "outputs": [
    {
     "data": {
      "text/plain": [
       "tensor([[[ 1,  2],\n",
       "         [ 3,  4]],\n",
       "\n",
       "        [[ 5,  6],\n",
       "         [ 7,  8]],\n",
       "\n",
       "        [[ 9, 10],\n",
       "         [11, 12]]], dtype=torch.int32)"
      ]
     },
     "execution_count": 27,
     "metadata": {},
     "output_type": "execute_result"
    }
   ],
   "source": [
    "x=np.arange(1,13).reshape(3,2,2)\n",
    "x=torch.from_numpy(x)\n",
    "x"
   ]
  },
  {
   "cell_type": "code",
   "execution_count": 28,
   "metadata": {},
   "outputs": [
    {
     "name": "stdout",
     "output_type": "stream",
     "text": [
      "tensor([[ 1,  2,  3,  4],\n",
      "        [ 5,  6,  7,  8],\n",
      "        [ 9, 10, 11, 12]], dtype=torch.int32)\n",
      "tensor([[ 1,  2,  3,  4,  5,  6],\n",
      "        [ 7,  8,  9, 10, 11, 12]], dtype=torch.int32)\n",
      "tensor([[ 1,  2],\n",
      "        [ 3,  4],\n",
      "        [ 5,  6],\n",
      "        [ 7,  8],\n",
      "        [ 9, 10],\n",
      "        [11, 12]], dtype=torch.int32)\n",
      "tensor([[[ 1,  2],\n",
      "         [ 3,  4]],\n",
      "\n",
      "        [[ 5,  6],\n",
      "         [ 7,  8]],\n",
      "\n",
      "        [[ 9, 10],\n",
      "         [11, 12]]], dtype=torch.int32)\n"
     ]
    }
   ],
   "source": [
    "print(x.view(3,4))\n",
    "print(x.view(2,6))\n",
    "print(x.view(6,2))\n",
    "print(x.view(3, -1, 2))"
   ]
  },
  {
   "cell_type": "code",
   "execution_count": 29,
   "metadata": {},
   "outputs": [
    {
     "name": "stdout",
     "output_type": "stream",
     "text": [
      "tensor([[[ 1,  2,  3,  4]],\n",
      "\n",
      "        [[ 5,  6,  7,  8]],\n",
      "\n",
      "        [[ 9, 10, 11, 12]]], dtype=torch.int32)\n",
      "tensor([[ 1,  2,  3,  4],\n",
      "        [ 5,  6,  7,  8],\n",
      "        [ 9, 10, 11, 12]], dtype=torch.int32)\n",
      "tensor([[[ 1,  2,  3,  4]],\n",
      "\n",
      "        [[ 5,  6,  7,  8]],\n",
      "\n",
      "        [[ 9, 10, 11, 12]]], dtype=torch.int32)\n"
     ]
    }
   ],
   "source": [
    "x1=x.view(3, 1, 4)\n",
    "print(x1)\n",
    "x2=x1.squeeze()\n",
    "print(x2)\n",
    "x3=x2.unsqueeze(1)\n",
    "print(x3)"
   ]
  },
  {
   "cell_type": "markdown",
   "metadata": {},
   "source": [
    "tensor 자르기 & 붙이기"
   ]
  },
  {
   "cell_type": "code",
   "execution_count": 30,
   "metadata": {},
   "outputs": [
    {
     "name": "stdout",
     "output_type": "stream",
     "text": [
      "tensor([[[ 1,  2],\n",
      "         [ 3,  4]],\n",
      "\n",
      "        [[ 5,  6],\n",
      "         [ 7,  8]],\n",
      "\n",
      "        [[ 9, 10],\n",
      "         [11, 12]]], dtype=torch.int32)\n",
      "torch.Size([3, 2, 2])\n"
     ]
    }
   ],
   "source": [
    "print(x)\n",
    "print(x.size())"
   ]
  },
  {
   "cell_type": "code",
   "execution_count": 31,
   "metadata": {},
   "outputs": [
    {
     "name": "stdout",
     "output_type": "stream",
     "text": [
      "tensor([[1, 2],\n",
      "        [3, 4]], dtype=torch.int32)\n",
      "tensor([[1, 2],\n",
      "        [3, 4]], dtype=torch.int32)\n",
      "tensor([[1, 2],\n",
      "        [3, 4]], dtype=torch.int32)\n"
     ]
    }
   ],
   "source": [
    "print(x[0])\n",
    "print(x[0,:])\n",
    "print(x[0,:, :])"
   ]
  },
  {
   "cell_type": "code",
   "execution_count": 32,
   "metadata": {},
   "outputs": [
    {
     "name": "stdout",
     "output_type": "stream",
     "text": [
      "tensor([[ 9, 10],\n",
      "        [11, 12]], dtype=torch.int32)\n",
      "tensor([[ 9, 10],\n",
      "        [11, 12]], dtype=torch.int32)\n",
      "tensor([[ 9, 10],\n",
      "        [11, 12]], dtype=torch.int32)\n"
     ]
    }
   ],
   "source": [
    "print(x[-1])\n",
    "print(x[-1,:])\n",
    "print(x[-1, :,:])"
   ]
  },
  {
   "cell_type": "code",
   "execution_count": 33,
   "metadata": {},
   "outputs": [
    {
     "name": "stdout",
     "output_type": "stream",
     "text": [
      "tensor([[ 1,  2],\n",
      "        [ 5,  6],\n",
      "        [ 9, 10]], dtype=torch.int32)\n",
      "tensor([[ 2,  4],\n",
      "        [ 6,  8],\n",
      "        [10, 12]], dtype=torch.int32)\n"
     ]
    }
   ],
   "source": [
    "print(x[:,0,: ])\n",
    "print(x[:, :, 1])"
   ]
  },
  {
   "cell_type": "code",
   "execution_count": 34,
   "metadata": {},
   "outputs": [
    {
     "name": "stdout",
     "output_type": "stream",
     "text": [
      "tensor([[[ 5,  6],\n",
      "         [ 7,  8]],\n",
      "\n",
      "        [[ 9, 10],\n",
      "         [11, 12]]], dtype=torch.int32)\n",
      "tensor([[ 3,  4],\n",
      "        [ 7,  8],\n",
      "        [11, 12]], dtype=torch.int32)\n",
      "tensor([[[ 1,  2]],\n",
      "\n",
      "        [[ 5,  6]],\n",
      "\n",
      "        [[ 9, 10]]], dtype=torch.int32)\n"
     ]
    }
   ],
   "source": [
    "print(x[1:3,:,:])\n",
    "print(x[:, 1, :])\n",
    "print(x[:, :-1, :])"
   ]
  },
  {
   "cell_type": "code",
   "execution_count": 35,
   "metadata": {},
   "outputs": [
    {
     "name": "stdout",
     "output_type": "stream",
     "text": [
      "tensor([[  1,   2,   3,   4,   5,   6,   7,   8,   9,  10],\n",
      "        [ 11,  12,  13,  14,  15,  16,  17,  18,  19,  20],\n",
      "        [ 21,  22,  23,  24,  25,  26,  27,  28,  29,  30],\n",
      "        [ 31,  32,  33,  34,  35,  36,  37,  38,  39,  40],\n",
      "        [ 41,  42,  43,  44,  45,  46,  47,  48,  49,  50],\n",
      "        [ 51,  52,  53,  54,  55,  56,  57,  58,  59,  60],\n",
      "        [ 61,  62,  63,  64,  65,  66,  67,  68,  69,  70],\n",
      "        [ 71,  72,  73,  74,  75,  76,  77,  78,  79,  80],\n",
      "        [ 81,  82,  83,  84,  85,  86,  87,  88,  89,  90],\n",
      "        [ 91,  92,  93,  94,  95,  96,  97,  98,  99, 100]], dtype=torch.int32)\n"
     ]
    }
   ],
   "source": [
    "x=np.arange(1,101).reshape(10,10)\n",
    "x=torch.from_numpy(x)\n",
    "print(x)"
   ]
  },
  {
   "cell_type": "code",
   "execution_count": 36,
   "metadata": {},
   "outputs": [
    {
     "name": "stdout",
     "output_type": "stream",
     "text": [
      "torch.Size([10, 4])\n",
      "tensor([[ 1,  2,  3,  4],\n",
      "        [11, 12, 13, 14],\n",
      "        [21, 22, 23, 24],\n",
      "        [31, 32, 33, 34],\n",
      "        [41, 42, 43, 44],\n",
      "        [51, 52, 53, 54],\n",
      "        [61, 62, 63, 64],\n",
      "        [71, 72, 73, 74],\n",
      "        [81, 82, 83, 84],\n",
      "        [91, 92, 93, 94]], dtype=torch.int32)\n",
      "torch.Size([10, 4])\n",
      "tensor([[ 5,  6,  7,  8],\n",
      "        [15, 16, 17, 18],\n",
      "        [25, 26, 27, 28],\n",
      "        [35, 36, 37, 38],\n",
      "        [45, 46, 47, 48],\n",
      "        [55, 56, 57, 58],\n",
      "        [65, 66, 67, 68],\n",
      "        [75, 76, 77, 78],\n",
      "        [85, 86, 87, 88],\n",
      "        [95, 96, 97, 98]], dtype=torch.int32)\n",
      "torch.Size([10, 2])\n",
      "tensor([[  9,  10],\n",
      "        [ 19,  20],\n",
      "        [ 29,  30],\n",
      "        [ 39,  40],\n",
      "        [ 49,  50],\n",
      "        [ 59,  60],\n",
      "        [ 69,  70],\n",
      "        [ 79,  80],\n",
      "        [ 89,  90],\n",
      "        [ 99, 100]], dtype=torch.int32)\n"
     ]
    }
   ],
   "source": [
    "splits=x.split(4, dim=1)\n",
    "for s in splits:\n",
    "    print(s.size())\n",
    "    print(s)"
   ]
  },
  {
   "cell_type": "code",
   "execution_count": 37,
   "metadata": {},
   "outputs": [
    {
     "name": "stdout",
     "output_type": "stream",
     "text": [
      "tensor([[ 1,  2,  3,  4,  5,  6,  7,  8,  9, 10],\n",
      "        [11, 12, 13, 14, 15, 16, 17, 18, 19, 20]], dtype=torch.int32)\n",
      "<built-in method size of Tensor object at 0x00000202A513B3E0>\n",
      "tensor([[21, 22, 23, 24, 25, 26, 27, 28, 29, 30],\n",
      "        [31, 32, 33, 34, 35, 36, 37, 38, 39, 40]], dtype=torch.int32)\n",
      "<built-in method size of Tensor object at 0x00000202A515CE60>\n",
      "tensor([[41, 42, 43, 44, 45, 46, 47, 48, 49, 50],\n",
      "        [51, 52, 53, 54, 55, 56, 57, 58, 59, 60]], dtype=torch.int32)\n",
      "<built-in method size of Tensor object at 0x00000202A515CDC0>\n",
      "tensor([[61, 62, 63, 64, 65, 66, 67, 68, 69, 70],\n",
      "        [71, 72, 73, 74, 75, 76, 77, 78, 79, 80]], dtype=torch.int32)\n",
      "<built-in method size of Tensor object at 0x00000202A515D590>\n",
      "tensor([[ 81,  82,  83,  84,  85,  86,  87,  88,  89,  90],\n",
      "        [ 91,  92,  93,  94,  95,  96,  97,  98,  99, 100]], dtype=torch.int32)\n",
      "<built-in method size of Tensor object at 0x00000202A515D770>\n"
     ]
    }
   ],
   "source": [
    "chunks=x.chunk(5,dim=0)\n",
    "for c in chunks:\n",
    "    print(c)\n",
    "    print(c.size)"
   ]
  },
  {
   "cell_type": "code",
   "execution_count": 38,
   "metadata": {},
   "outputs": [
    {
     "name": "stdout",
     "output_type": "stream",
     "text": [
      "tensor([[[ 1,  2,  3],\n",
      "         [ 4,  5,  6],\n",
      "         [ 7,  8,  9]],\n",
      "\n",
      "        [[10, 11, 12],\n",
      "         [13, 14, 15],\n",
      "         [16, 17, 18]]], dtype=torch.int32)\n",
      "tensor([[[ 3,  1],\n",
      "         [ 6,  4],\n",
      "         [ 9,  7]],\n",
      "\n",
      "        [[12, 10],\n",
      "         [15, 13],\n",
      "         [18, 16]]], dtype=torch.int32)\n"
     ]
    }
   ],
   "source": [
    "x=np.arange(1,19).reshape(2,3,3)\n",
    "x=torch.from_numpy(x)\n",
    "print(x)\n",
    "indice=torch.LongTensor([2,0])\n",
    "y=x.index_select(dim=-1, index=indice)\n",
    "print(y)"
   ]
  },
  {
   "cell_type": "code",
   "execution_count": 39,
   "metadata": {},
   "outputs": [
    {
     "name": "stdout",
     "output_type": "stream",
     "text": [
      "tensor([[1, 2, 3],\n",
      "        [4, 5, 6]], dtype=torch.int32)\n",
      "tensor([[ 7,  8,  9],\n",
      "        [10, 11, 12]], dtype=torch.int32)\n"
     ]
    }
   ],
   "source": [
    "a=np.arange(1,7).reshape(2,3)\n",
    "a=torch.from_numpy(a)\n",
    "print(a)\n",
    "\n",
    "b=np.arange(7,13).reshape(2,3)\n",
    "b=torch.from_numpy(b)\n",
    "print(b)"
   ]
  },
  {
   "cell_type": "code",
   "execution_count": 40,
   "metadata": {},
   "outputs": [
    {
     "name": "stdout",
     "output_type": "stream",
     "text": [
      "tensor([[[ 1,  2,  3],\n",
      "         [ 4,  5,  6]],\n",
      "\n",
      "        [[ 7,  8,  9],\n",
      "         [10, 11, 12]]], dtype=torch.int32)\n"
     ]
    }
   ],
   "source": [
    "c=torch.stack([a,b])\n",
    "print(c)"
   ]
  },
  {
   "cell_type": "code",
   "execution_count": 41,
   "metadata": {},
   "outputs": [
    {
     "name": "stdout",
     "output_type": "stream",
     "text": [
      "tensor([[[ 1,  7],\n",
      "         [ 2,  8],\n",
      "         [ 3,  9]],\n",
      "\n",
      "        [[ 4, 10],\n",
      "         [ 5, 11],\n",
      "         [ 6, 12]]], dtype=torch.int32)\n"
     ]
    }
   ],
   "source": [
    "d=torch.stack([a,b], dim=-1)\n",
    "print(d)"
   ]
  },
  {
   "cell_type": "code",
   "execution_count": 42,
   "metadata": {},
   "outputs": [
    {
     "name": "stdout",
     "output_type": "stream",
     "text": [
      "tensor([[ 1,  2,  3],\n",
      "        [ 4,  5,  6],\n",
      "        [ 7,  8,  9],\n",
      "        [10, 11, 12]], dtype=torch.int32)\n"
     ]
    }
   ],
   "source": [
    "e=torch.cat([a,b])\n",
    "print(e)"
   ]
  },
  {
   "cell_type": "code",
   "execution_count": 43,
   "metadata": {},
   "outputs": [
    {
     "name": "stdout",
     "output_type": "stream",
     "text": [
      "tensor([[[1, 2, 3]],\n",
      "\n",
      "        [[4, 5, 6]]], dtype=torch.int32)\n",
      "tensor([[[1, 2, 3],\n",
      "         [1, 2, 3],\n",
      "         [1, 2, 3]],\n",
      "\n",
      "        [[4, 5, 6],\n",
      "         [4, 5, 6],\n",
      "         [4, 5, 6]]], dtype=torch.int32)\n",
      "tensor([[[1, 2, 3],\n",
      "         [1, 2, 3],\n",
      "         [1, 2, 3]],\n",
      "\n",
      "        [[4, 5, 6],\n",
      "         [4, 5, 6],\n",
      "         [4, 5, 6]]], dtype=torch.int32)\n"
     ]
    }
   ],
   "source": [
    "a1=a.view(2,1,3)\n",
    "print(a1)\n",
    "a2=a1.expand(2, 3, 3)\n",
    "print(a2)\n",
    "print(torch.cat([a1]*3, dim=1))"
   ]
  },
  {
   "cell_type": "code",
   "execution_count": 44,
   "metadata": {},
   "outputs": [
    {
     "name": "stdout",
     "output_type": "stream",
     "text": [
      "tensor([ 2, 50, 48, 98, 56,  1, 85, 58, 11, 33, 29, 87, 93,  8, 61, 45, 26, 66,\n",
      "        74, 47, 40, 94, 25, 79, 10, 15, 89, 14, 31, 97, 73, 17, 32, 82, 72, 92,\n",
      "        69, 67, 84, 71, 90, 68, 64, 62, 44, 27, 37, 54,  4,  6, 63, 24, 22, 30,\n",
      "        86, 39, 96, 57, 99, 83,  3,  9, 46, 13, 38, 53, 65, 59, 75, 91, 19, 16,\n",
      "        70, 88, 52,  0, 20, 49, 76, 80, 28, 42, 41, 35, 23, 77, 60, 21, 81, 95,\n",
      "        51, 78, 34, 12,  7, 18,  5, 36, 55, 43])\n"
     ]
    }
   ],
   "source": [
    "\n",
    "\n",
    "x=torch.randperm(100)\n",
    "print(x)"
   ]
  },
  {
   "cell_type": "code",
   "execution_count": 45,
   "metadata": {},
   "outputs": [
    {
     "name": "stdout",
     "output_type": "stream",
     "text": [
      "tensor([[[22, 14, 21],\n",
      "         [11,  2, 23],\n",
      "         [ 8,  0, 20]],\n",
      "\n",
      "        [[ 9,  1, 10],\n",
      "         [12, 16,  3],\n",
      "         [18, 15, 19]],\n",
      "\n",
      "        [[26,  5,  7],\n",
      "         [25,  6,  4],\n",
      "         [24, 13, 17]]])\n"
     ]
    }
   ],
   "source": [
    "x=torch.randperm(3**3).reshape(3,3,-1)\n",
    "print(x)"
   ]
  },
  {
   "cell_type": "code",
   "execution_count": 46,
   "metadata": {},
   "outputs": [
    {
     "name": "stdout",
     "output_type": "stream",
     "text": [
      "tensor([[0, 2, 2],\n",
      "        [2, 1, 2],\n",
      "        [0, 0, 0]])\n",
      "tensor([[0, 0, 1],\n",
      "        [2, 1, 2],\n",
      "        [0, 2, 2]])\n",
      "tensor([[2, 0, 0],\n",
      "        [2, 1, 0],\n",
      "        [2, 1, 0]])\n"
     ]
    }
   ],
   "source": [
    "y1=x.argmax(dim=-1)\n",
    "print(y1)\n",
    "y2=x.argmax(dim=1)\n",
    "print(y2)\n",
    "y3=x.argmax(dim=0)\n",
    "print(y3)"
   ]
  },
  {
   "cell_type": "code",
   "execution_count": 47,
   "metadata": {},
   "outputs": [
    {
     "name": "stdout",
     "output_type": "stream",
     "text": [
      "tensor([[[22, 21],\n",
      "         [23, 11],\n",
      "         [20,  8]],\n",
      "\n",
      "        [[10,  9],\n",
      "         [16, 12],\n",
      "         [19, 18]],\n",
      "\n",
      "        [[26,  7],\n",
      "         [25,  6],\n",
      "         [24, 17]]])\n",
      "tensor([[[0, 2],\n",
      "         [2, 0],\n",
      "         [2, 0]],\n",
      "\n",
      "        [[2, 0],\n",
      "         [1, 0],\n",
      "         [2, 0]],\n",
      "\n",
      "        [[0, 2],\n",
      "         [0, 1],\n",
      "         [0, 2]]])\n",
      "torch.Size([3, 3, 2])\n",
      "torch.Size([3, 3, 2])\n"
     ]
    }
   ],
   "source": [
    "values, indices=torch.topk(x, k=2, dim=-1)\n",
    "print(values)\n",
    "print(indices)\n",
    "print(values.size())\n",
    "print(indices.size())"
   ]
  },
  {
   "cell_type": "code",
   "execution_count": 51,
   "metadata": {},
   "outputs": [],
   "source": [
    "x=torch.FloatTensor([i for i in range(9)])"
   ]
  },
  {
   "cell_type": "code",
   "execution_count": 52,
   "metadata": {},
   "outputs": [
    {
     "name": "stdout",
     "output_type": "stream",
     "text": [
      "tensor([False, False, False, False, False,  True,  True,  True,  True])\n"
     ]
    }
   ],
   "source": [
    "mask=x>4\n",
    "print(mask)"
   ]
  },
  {
   "cell_type": "code",
   "execution_count": 53,
   "metadata": {},
   "outputs": [
    {
     "data": {
      "text/plain": [
       "tensor([0., 1., 2., 3., 4., 0., 0., 0., 0.])"
      ]
     },
     "execution_count": 53,
     "metadata": {},
     "output_type": "execute_result"
    }
   ],
   "source": [
    "y=x.masked_fill(mask, value=0)\n",
    "y"
   ]
  },
  {
   "cell_type": "code",
   "execution_count": 54,
   "metadata": {},
   "outputs": [
    {
     "name": "stdout",
     "output_type": "stream",
     "text": [
      "tensor([[1., 1., 1.],\n",
      "        [1., 1., 1.]])\n",
      "tensor([[0., 0., 0.],\n",
      "        [0., 0., 0.]])\n"
     ]
    }
   ],
   "source": [
    "a=torch.ones(2,3)\n",
    "b=torch.zeros(2,3)\n",
    "print(a)\n",
    "print(b)"
   ]
  },
  {
   "cell_type": "code",
   "execution_count": 56,
   "metadata": {},
   "outputs": [
    {
     "data": {
      "text/plain": [
       "tensor([[0., 1., 2.],\n",
       "        [3., 4., 5.],\n",
       "        [6., 7., 8.]])"
      ]
     },
     "execution_count": 56,
     "metadata": {},
     "output_type": "execute_result"
    }
   ],
   "source": [
    "y=x.view(3,3)\n",
    "y"
   ]
  },
  {
   "cell_type": "code",
   "execution_count": 58,
   "metadata": {},
   "outputs": [
    {
     "name": "stdout",
     "output_type": "stream",
     "text": [
      "tensor([[1., 1., 1.],\n",
      "        [1., 1., 1.],\n",
      "        [1., 1., 1.]])\n",
      "tensor([[0., 0., 0.],\n",
      "        [0., 0., 0.],\n",
      "        [0., 0., 0.]])\n"
     ]
    }
   ],
   "source": [
    "y1=torch.ones_like(y)\n",
    "y2=torch.zeros_like(y)\n",
    "print(y1)\n",
    "print(y2)"
   ]
  },
  {
   "cell_type": "code",
   "execution_count": 48,
   "metadata": {},
   "outputs": [
    {
     "data": {
      "text/plain": [
       "[0, 1, 2, 3, 4, 5, 6, 7, 8]"
      ]
     },
     "execution_count": 48,
     "metadata": {},
     "output_type": "execute_result"
    }
   ],
   "source": [
    "list1=[]\n",
    "for i in range(9):\n",
    "    list1.append(i)\n",
    "list1"
   ]
  },
  {
   "cell_type": "code",
   "execution_count": 49,
   "metadata": {},
   "outputs": [
    {
     "data": {
      "text/plain": [
       "[0, 1, 2, 3, 4, 5, 6, 7, 8]"
      ]
     },
     "execution_count": 49,
     "metadata": {},
     "output_type": "execute_result"
    }
   ],
   "source": [
    "list2=[i for i in range(0, 9, 1)]\n",
    "list2"
   ]
  },
  {
   "cell_type": "markdown",
   "metadata": {},
   "source": []
  }
 ],
 "metadata": {
  "kernelspec": {
   "display_name": "base",
   "language": "python",
   "name": "python3"
  },
  "language_info": {
   "codemirror_mode": {
    "name": "ipython",
    "version": 3
   },
   "file_extension": ".py",
   "mimetype": "text/x-python",
   "name": "python",
   "nbconvert_exporter": "python",
   "pygments_lexer": "ipython3",
   "version": "3.12.7"
  }
 },
 "nbformat": 4,
 "nbformat_minor": 2
}
