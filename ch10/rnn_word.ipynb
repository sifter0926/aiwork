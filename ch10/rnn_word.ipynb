{
 "cells": [
  {
   "cell_type": "code",
   "execution_count": 1,
   "metadata": {},
   "outputs": [],
   "source": [
    "import torch\n",
    "import torch.nn as nn\n",
    "import torch.optim as optim\n",
    "import numpy as np"
   ]
  },
  {
   "cell_type": "code",
   "execution_count": 2,
   "metadata": {},
   "outputs": [
    {
     "name": "stdout",
     "output_type": "stream",
     "text": [
      "['Repeat', 'is', 'the', 'best', 'medicine', 'for', 'memory']\n"
     ]
    }
   ],
   "source": [
    "sentence = \"Repeat is the best medicine for memory\".split()\n",
    "print(sentence)"
   ]
  },
  {
   "cell_type": "code",
   "execution_count": 3,
   "metadata": {},
   "outputs": [
    {
     "name": "stdout",
     "output_type": "stream",
     "text": [
      "['Repeat', 'best', 'for', 'is', 'medicine', 'memory', 'the']\n"
     ]
    }
   ],
   "source": [
    "vocab=sorted(list(set(sentence)))\n",
    "print(vocab)"
   ]
  },
  {
   "cell_type": "code",
   "execution_count": 4,
   "metadata": {},
   "outputs": [
    {
     "data": {
      "text/plain": [
       "7"
      ]
     },
     "execution_count": 4,
     "metadata": {},
     "output_type": "execute_result"
    }
   ],
   "source": [
    "vocab_size=len(vocab)\n",
    "vocab_size"
   ]
  },
  {
   "cell_type": "code",
   "execution_count": 10,
   "metadata": {},
   "outputs": [
    {
     "name": "stdout",
     "output_type": "stream",
     "text": [
      "{'Repeat': 1, 'best': 2, 'for': 3, 'is': 4, 'medicine': 5, 'memory': 6, 'the': 7}\n",
      "{'Repeat': 1, 'best': 2, 'for': 3, 'is': 4, 'medicine': 5, 'memory': 6, 'the': 7, '<unk>': 0}\n"
     ]
    }
   ],
   "source": [
    "word_to_index={tkn:i for i, tkn in enumerate(vocab,1)}\n",
    "print(word_to_index)\n",
    "word_to_index['<unk>']=0\n",
    "print(word_to_index)"
   ]
  },
  {
   "cell_type": "code",
   "execution_count": 12,
   "metadata": {},
   "outputs": [
    {
     "name": "stdout",
     "output_type": "stream",
     "text": [
      "3\n",
      "[1, 4, 7, 2, 5, 3, 6]\n"
     ]
    }
   ],
   "source": [
    "print(word_to_index['for'])\n",
    "encode=[word_to_index[t] for t in sentence]\n",
    "print(encode)"
   ]
  },
  {
   "cell_type": "code",
   "execution_count": 16,
   "metadata": {},
   "outputs": [],
   "source": [
    "def build_data(sentence, word_to_index):\n",
    "    encode=[word_to_index[t] for t in sentence]\n",
    "    input_seq=encode[:-1]\n",
    "    label_seq=encode[1:]\n",
    "    input_seq=torch.LongTensor(input_seq).unsqueeze(0)\n",
    "    label_seq=torch.LongTensor([label_seq])\n",
    "    return input_seq, label_seq"
   ]
  },
  {
   "cell_type": "code",
   "execution_count": 17,
   "metadata": {},
   "outputs": [
    {
     "name": "stdout",
     "output_type": "stream",
     "text": [
      "tensor([[1, 4, 7, 2, 5, 3]])\n",
      "tensor([[4, 7, 2, 5, 3, 6]])\n"
     ]
    }
   ],
   "source": [
    "X,Y=build_data(sentence, word_to_index)\n",
    "print(X)\n",
    "print(Y)"
   ]
  },
  {
   "cell_type": "code",
   "execution_count": 19,
   "metadata": {},
   "outputs": [],
   "source": [
    "class Net(nn.Module):\n",
    "    def __init__(self, vocab_size, input_size, hidden_size, batch_first=True):\n",
    "        super(Net, self).__init__()\n",
    "\n",
    "        self.embedding_layer=nn.Embedding(num_embeddings=vocab_size,\n",
    "                                          embedding_dim=input_size)\n",
    "        self.rnn=nn.RNN(input_size, hidden_size, batch_first=batch_first)\n",
    "        self.fc=nn.Linear(hidden_size, vocab_size)\n",
    "\n",
    "    def forward(self, x):\n",
    "        output=self.embedding_layer(x)\n",
    "        #임베딩층 : 크기변화(배치크기, 시퀀스 길이)=>(배치크기, 시퀀스길이, 임베딩 차원)\n",
    "\n",
    "        output, hidden=self.rnn(output)\n",
    "        #RNN층 : 크기변화(배치크기, 시퀀스 길이, 임베딩 차원)=>\n",
    "        # output:(배치크기, 시퀀스 길이, 은닉층 크기)\n",
    "        # hidden:(1, 배치크기, 은닉층크기)\n",
    "\n",
    "        output=self.fc(output)\n",
    "        #크기변화: (배치크기, 시퀀스 길이, 단어장 크기)\n",
    "        \n",
    "        # =>(배치크기*시퀀스길이, 단어장 크기)\n",
    "        return output.view(-1, output.size(2))"
   ]
  },
  {
   "cell_type": "code",
   "execution_count": 21,
   "metadata": {},
   "outputs": [],
   "source": [
    "vocab_size=len(word_to_index)\n",
    "input_size=vocab_size\n",
    "hidden_size=20"
   ]
  },
  {
   "cell_type": "code",
   "execution_count": 26,
   "metadata": {},
   "outputs": [],
   "source": [
    "model=Net(vocab_size, input_size, hidden_size, batch_first=True)\n",
    "loss_func=nn.CrossEntropyLoss()\n",
    "optimizer=optim.Adam(model.parameters())"
   ]
  },
  {
   "cell_type": "code",
   "execution_count": 27,
   "metadata": {},
   "outputs": [
    {
     "name": "stdout",
     "output_type": "stream",
     "text": [
      "{1: 'Repeat', 2: 'best', 3: 'for', 4: 'is', 5: 'medicine', 6: 'memory', 7: 'the', 0: '<unk>'}\n"
     ]
    }
   ],
   "source": [
    "index_to_word={v:k for k,v in word_to_index.items()}\n",
    "print(index_to_word)"
   ]
  },
  {
   "cell_type": "code",
   "execution_count": 28,
   "metadata": {},
   "outputs": [
    {
     "name": "stdout",
     "output_type": "stream",
     "text": [
      "<function <lambda> at 0x000002111E90C180>\n"
     ]
    }
   ],
   "source": [
    "decode=lambda y:[index_to_word.get(x) for x in y]\n",
    "print(decode)"
   ]
  },
  {
   "cell_type": "code",
   "execution_count": 29,
   "metadata": {},
   "outputs": [
    {
     "name": "stdout",
     "output_type": "stream",
     "text": [
      "0 [5, 5, 2, 3, 5, 5] str: Repeat medicine medicine best for medicine medicine\n",
      "1 [5, 5, 2, 3, 5, 5] str: Repeat medicine medicine best for medicine medicine\n",
      "2 [5, 5, 2, 3, 5, 5] str: Repeat medicine medicine best for medicine medicine\n",
      "3 [5, 5, 2, 3, 5, 5] str: Repeat medicine medicine best for medicine medicine\n",
      "4 [5, 5, 2, 3, 5, 5] str: Repeat medicine medicine best for medicine medicine\n",
      "5 [5, 5, 2, 3, 5, 5] str: Repeat medicine medicine best for medicine medicine\n",
      "6 [5, 5, 2, 3, 5, 5] str: Repeat medicine medicine best for medicine medicine\n",
      "7 [5, 5, 2, 3, 5, 5] str: Repeat medicine medicine best for medicine medicine\n",
      "8 [5, 5, 2, 3, 5, 5] str: Repeat medicine medicine best for medicine medicine\n",
      "9 [5, 5, 2, 3, 5, 5] str: Repeat medicine medicine best for medicine medicine\n",
      "10 [5, 5, 2, 3, 5, 5] str: Repeat medicine medicine best for medicine medicine\n",
      "11 [5, 2, 2, 3, 5, 5] str: Repeat medicine best best for medicine medicine\n",
      "12 [5, 2, 2, 5, 5, 5] str: Repeat medicine best best medicine medicine medicine\n",
      "13 [5, 2, 2, 5, 5, 5] str: Repeat medicine best best medicine medicine medicine\n",
      "14 [5, 2, 2, 5, 5, 5] str: Repeat medicine best best medicine medicine medicine\n",
      "15 [5, 2, 2, 5, 5, 5] str: Repeat medicine best best medicine medicine medicine\n",
      "16 [5, 2, 2, 5, 5, 5] str: Repeat medicine best best medicine medicine medicine\n",
      "17 [5, 2, 2, 5, 5, 5] str: Repeat medicine best best medicine medicine medicine\n",
      "18 [5, 2, 2, 5, 3, 5] str: Repeat medicine best best medicine for medicine\n",
      "19 [5, 2, 2, 5, 3, 5] str: Repeat medicine best best medicine for medicine\n",
      "20 [5, 2, 2, 5, 3, 5] str: Repeat medicine best best medicine for medicine\n",
      "21 [5, 2, 2, 5, 3, 5] str: Repeat medicine best best medicine for medicine\n",
      "22 [5, 2, 2, 5, 3, 5] str: Repeat medicine best best medicine for medicine\n",
      "23 [5, 2, 2, 5, 3, 5] str: Repeat medicine best best medicine for medicine\n",
      "24 [5, 2, 2, 5, 3, 5] str: Repeat medicine best best medicine for medicine\n",
      "25 [5, 2, 2, 5, 3, 5] str: Repeat medicine best best medicine for medicine\n",
      "26 [5, 2, 2, 5, 3, 5] str: Repeat medicine best best medicine for medicine\n",
      "27 [5, 2, 2, 5, 3, 5] str: Repeat medicine best best medicine for medicine\n",
      "28 [5, 2, 2, 5, 3, 5] str: Repeat medicine best best medicine for medicine\n",
      "29 [5, 2, 2, 5, 3, 5] str: Repeat medicine best best medicine for medicine\n",
      "30 [5, 2, 2, 5, 3, 5] str: Repeat medicine best best medicine for medicine\n",
      "31 [5, 2, 2, 5, 3, 5] str: Repeat medicine best best medicine for medicine\n",
      "32 [5, 2, 2, 5, 3, 5] str: Repeat medicine best best medicine for medicine\n",
      "33 [5, 2, 2, 5, 3, 5] str: Repeat medicine best best medicine for medicine\n",
      "34 [5, 2, 2, 5, 3, 6] str: Repeat medicine best best medicine for memory\n",
      "35 [5, 2, 2, 5, 3, 6] str: Repeat medicine best best medicine for memory\n",
      "36 [5, 2, 2, 5, 3, 6] str: Repeat medicine best best medicine for memory\n",
      "37 [5, 2, 2, 5, 3, 6] str: Repeat medicine best best medicine for memory\n",
      "38 [4, 2, 2, 5, 3, 6] str: Repeat is best best medicine for memory\n",
      "39 [4, 2, 2, 5, 3, 6] str: Repeat is best best medicine for memory\n",
      "40 [4, 7, 2, 5, 3, 6] str: Repeat is the best medicine for memory\n",
      "41 [4, 7, 2, 5, 3, 6] str: Repeat is the best medicine for memory\n",
      "42 [4, 7, 2, 5, 3, 6] str: Repeat is the best medicine for memory\n",
      "43 [4, 7, 2, 5, 3, 6] str: Repeat is the best medicine for memory\n",
      "44 [4, 7, 2, 5, 3, 6] str: Repeat is the best medicine for memory\n",
      "45 [4, 7, 2, 5, 3, 6] str: Repeat is the best medicine for memory\n",
      "46 [4, 7, 2, 5, 3, 6] str: Repeat is the best medicine for memory\n",
      "47 [4, 7, 2, 5, 3, 6] str: Repeat is the best medicine for memory\n",
      "48 [4, 7, 2, 5, 3, 6] str: Repeat is the best medicine for memory\n",
      "49 [4, 7, 2, 5, 3, 6] str: Repeat is the best medicine for memory\n",
      "50 [4, 7, 2, 5, 3, 6] str: Repeat is the best medicine for memory\n",
      "51 [4, 7, 2, 5, 3, 6] str: Repeat is the best medicine for memory\n",
      "52 [4, 7, 2, 5, 3, 6] str: Repeat is the best medicine for memory\n",
      "53 [4, 7, 2, 5, 3, 6] str: Repeat is the best medicine for memory\n",
      "54 [4, 7, 2, 5, 3, 6] str: Repeat is the best medicine for memory\n",
      "55 [4, 7, 2, 5, 3, 6] str: Repeat is the best medicine for memory\n",
      "56 [4, 7, 2, 5, 3, 6] str: Repeat is the best medicine for memory\n",
      "57 [4, 7, 2, 5, 3, 6] str: Repeat is the best medicine for memory\n",
      "58 [4, 7, 2, 5, 3, 6] str: Repeat is the best medicine for memory\n",
      "59 [4, 7, 2, 5, 3, 6] str: Repeat is the best medicine for memory\n",
      "60 [4, 7, 2, 5, 3, 6] str: Repeat is the best medicine for memory\n",
      "61 [4, 7, 2, 5, 3, 6] str: Repeat is the best medicine for memory\n",
      "62 [4, 7, 2, 5, 3, 6] str: Repeat is the best medicine for memory\n",
      "63 [4, 7, 2, 5, 3, 6] str: Repeat is the best medicine for memory\n",
      "64 [4, 7, 2, 5, 3, 6] str: Repeat is the best medicine for memory\n",
      "65 [4, 7, 2, 5, 3, 6] str: Repeat is the best medicine for memory\n",
      "66 [4, 7, 2, 5, 3, 6] str: Repeat is the best medicine for memory\n",
      "67 [4, 7, 2, 5, 3, 6] str: Repeat is the best medicine for memory\n",
      "68 [4, 7, 2, 5, 3, 6] str: Repeat is the best medicine for memory\n",
      "69 [4, 7, 2, 5, 3, 6] str: Repeat is the best medicine for memory\n",
      "70 [4, 7, 2, 5, 3, 6] str: Repeat is the best medicine for memory\n",
      "71 [4, 7, 2, 5, 3, 6] str: Repeat is the best medicine for memory\n",
      "72 [4, 7, 2, 5, 3, 6] str: Repeat is the best medicine for memory\n",
      "73 [4, 7, 2, 5, 3, 6] str: Repeat is the best medicine for memory\n",
      "74 [4, 7, 2, 5, 3, 6] str: Repeat is the best medicine for memory\n",
      "75 [4, 7, 2, 5, 3, 6] str: Repeat is the best medicine for memory\n",
      "76 [4, 7, 2, 5, 3, 6] str: Repeat is the best medicine for memory\n",
      "77 [4, 7, 2, 5, 3, 6] str: Repeat is the best medicine for memory\n",
      "78 [4, 7, 2, 5, 3, 6] str: Repeat is the best medicine for memory\n",
      "79 [4, 7, 2, 5, 3, 6] str: Repeat is the best medicine for memory\n",
      "80 [4, 7, 2, 5, 3, 6] str: Repeat is the best medicine for memory\n",
      "81 [4, 7, 2, 5, 3, 6] str: Repeat is the best medicine for memory\n",
      "82 [4, 7, 2, 5, 3, 6] str: Repeat is the best medicine for memory\n",
      "83 [4, 7, 2, 5, 3, 6] str: Repeat is the best medicine for memory\n",
      "84 [4, 7, 2, 5, 3, 6] str: Repeat is the best medicine for memory\n",
      "85 [4, 7, 2, 5, 3, 6] str: Repeat is the best medicine for memory\n",
      "86 [4, 7, 2, 5, 3, 6] str: Repeat is the best medicine for memory\n",
      "87 [4, 7, 2, 5, 3, 6] str: Repeat is the best medicine for memory\n",
      "88 [4, 7, 2, 5, 3, 6] str: Repeat is the best medicine for memory\n",
      "89 [4, 7, 2, 5, 3, 6] str: Repeat is the best medicine for memory\n",
      "90 [4, 7, 2, 5, 3, 6] str: Repeat is the best medicine for memory\n",
      "91 [4, 7, 2, 5, 3, 6] str: Repeat is the best medicine for memory\n",
      "92 [4, 7, 2, 5, 3, 6] str: Repeat is the best medicine for memory\n",
      "93 [4, 7, 2, 5, 3, 6] str: Repeat is the best medicine for memory\n",
      "94 [4, 7, 2, 5, 3, 6] str: Repeat is the best medicine for memory\n",
      "95 [4, 7, 2, 5, 3, 6] str: Repeat is the best medicine for memory\n",
      "96 [4, 7, 2, 5, 3, 6] str: Repeat is the best medicine for memory\n",
      "97 [4, 7, 2, 5, 3, 6] str: Repeat is the best medicine for memory\n",
      "98 [4, 7, 2, 5, 3, 6] str: Repeat is the best medicine for memory\n",
      "99 [4, 7, 2, 5, 3, 6] str: Repeat is the best medicine for memory\n",
      "100 [4, 7, 2, 5, 3, 6] str: Repeat is the best medicine for memory\n",
      "101 [4, 7, 2, 5, 3, 6] str: Repeat is the best medicine for memory\n",
      "102 [4, 7, 2, 5, 3, 6] str: Repeat is the best medicine for memory\n",
      "103 [4, 7, 2, 5, 3, 6] str: Repeat is the best medicine for memory\n",
      "104 [4, 7, 2, 5, 3, 6] str: Repeat is the best medicine for memory\n",
      "105 [4, 7, 2, 5, 3, 6] str: Repeat is the best medicine for memory\n",
      "106 [4, 7, 2, 5, 3, 6] str: Repeat is the best medicine for memory\n",
      "107 [4, 7, 2, 5, 3, 6] str: Repeat is the best medicine for memory\n",
      "108 [4, 7, 2, 5, 3, 6] str: Repeat is the best medicine for memory\n",
      "109 [4, 7, 2, 5, 3, 6] str: Repeat is the best medicine for memory\n",
      "110 [4, 7, 2, 5, 3, 6] str: Repeat is the best medicine for memory\n",
      "111 [4, 7, 2, 5, 3, 6] str: Repeat is the best medicine for memory\n",
      "112 [4, 7, 2, 5, 3, 6] str: Repeat is the best medicine for memory\n",
      "113 [4, 7, 2, 5, 3, 6] str: Repeat is the best medicine for memory\n",
      "114 [4, 7, 2, 5, 3, 6] str: Repeat is the best medicine for memory\n",
      "115 [4, 7, 2, 5, 3, 6] str: Repeat is the best medicine for memory\n",
      "116 [4, 7, 2, 5, 3, 6] str: Repeat is the best medicine for memory\n",
      "117 [4, 7, 2, 5, 3, 6] str: Repeat is the best medicine for memory\n",
      "118 [4, 7, 2, 5, 3, 6] str: Repeat is the best medicine for memory\n",
      "119 [4, 7, 2, 5, 3, 6] str: Repeat is the best medicine for memory\n",
      "120 [4, 7, 2, 5, 3, 6] str: Repeat is the best medicine for memory\n",
      "121 [4, 7, 2, 5, 3, 6] str: Repeat is the best medicine for memory\n",
      "122 [4, 7, 2, 5, 3, 6] str: Repeat is the best medicine for memory\n",
      "123 [4, 7, 2, 5, 3, 6] str: Repeat is the best medicine for memory\n",
      "124 [4, 7, 2, 5, 3, 6] str: Repeat is the best medicine for memory\n",
      "125 [4, 7, 2, 5, 3, 6] str: Repeat is the best medicine for memory\n",
      "126 [4, 7, 2, 5, 3, 6] str: Repeat is the best medicine for memory\n",
      "127 [4, 7, 2, 5, 3, 6] str: Repeat is the best medicine for memory\n",
      "128 [4, 7, 2, 5, 3, 6] str: Repeat is the best medicine for memory\n",
      "129 [4, 7, 2, 5, 3, 6] str: Repeat is the best medicine for memory\n",
      "130 [4, 7, 2, 5, 3, 6] str: Repeat is the best medicine for memory\n",
      "131 [4, 7, 2, 5, 3, 6] str: Repeat is the best medicine for memory\n",
      "132 [4, 7, 2, 5, 3, 6] str: Repeat is the best medicine for memory\n",
      "133 [4, 7, 2, 5, 3, 6] str: Repeat is the best medicine for memory\n",
      "134 [4, 7, 2, 5, 3, 6] str: Repeat is the best medicine for memory\n",
      "135 [4, 7, 2, 5, 3, 6] str: Repeat is the best medicine for memory\n",
      "136 [4, 7, 2, 5, 3, 6] str: Repeat is the best medicine for memory\n",
      "137 [4, 7, 2, 5, 3, 6] str: Repeat is the best medicine for memory\n",
      "138 [4, 7, 2, 5, 3, 6] str: Repeat is the best medicine for memory\n",
      "139 [4, 7, 2, 5, 3, 6] str: Repeat is the best medicine for memory\n",
      "140 [4, 7, 2, 5, 3, 6] str: Repeat is the best medicine for memory\n",
      "141 [4, 7, 2, 5, 3, 6] str: Repeat is the best medicine for memory\n",
      "142 [4, 7, 2, 5, 3, 6] str: Repeat is the best medicine for memory\n",
      "143 [4, 7, 2, 5, 3, 6] str: Repeat is the best medicine for memory\n",
      "144 [4, 7, 2, 5, 3, 6] str: Repeat is the best medicine for memory\n",
      "145 [4, 7, 2, 5, 3, 6] str: Repeat is the best medicine for memory\n",
      "146 [4, 7, 2, 5, 3, 6] str: Repeat is the best medicine for memory\n",
      "147 [4, 7, 2, 5, 3, 6] str: Repeat is the best medicine for memory\n",
      "148 [4, 7, 2, 5, 3, 6] str: Repeat is the best medicine for memory\n",
      "149 [4, 7, 2, 5, 3, 6] str: Repeat is the best medicine for memory\n",
      "150 [4, 7, 2, 5, 3, 6] str: Repeat is the best medicine for memory\n",
      "151 [4, 7, 2, 5, 3, 6] str: Repeat is the best medicine for memory\n",
      "152 [4, 7, 2, 5, 3, 6] str: Repeat is the best medicine for memory\n",
      "153 [4, 7, 2, 5, 3, 6] str: Repeat is the best medicine for memory\n",
      "154 [4, 7, 2, 5, 3, 6] str: Repeat is the best medicine for memory\n",
      "155 [4, 7, 2, 5, 3, 6] str: Repeat is the best medicine for memory\n",
      "156 [4, 7, 2, 5, 3, 6] str: Repeat is the best medicine for memory\n",
      "157 [4, 7, 2, 5, 3, 6] str: Repeat is the best medicine for memory\n",
      "158 [4, 7, 2, 5, 3, 6] str: Repeat is the best medicine for memory\n",
      "159 [4, 7, 2, 5, 3, 6] str: Repeat is the best medicine for memory\n",
      "160 [4, 7, 2, 5, 3, 6] str: Repeat is the best medicine for memory\n",
      "161 [4, 7, 2, 5, 3, 6] str: Repeat is the best medicine for memory\n",
      "162 [4, 7, 2, 5, 3, 6] str: Repeat is the best medicine for memory\n",
      "163 [4, 7, 2, 5, 3, 6] str: Repeat is the best medicine for memory\n",
      "164 [4, 7, 2, 5, 3, 6] str: Repeat is the best medicine for memory\n",
      "165 [4, 7, 2, 5, 3, 6] str: Repeat is the best medicine for memory\n",
      "166 [4, 7, 2, 5, 3, 6] str: Repeat is the best medicine for memory\n",
      "167 [4, 7, 2, 5, 3, 6] str: Repeat is the best medicine for memory\n",
      "168 [4, 7, 2, 5, 3, 6] str: Repeat is the best medicine for memory\n",
      "169 [4, 7, 2, 5, 3, 6] str: Repeat is the best medicine for memory\n",
      "170 [4, 7, 2, 5, 3, 6] str: Repeat is the best medicine for memory\n",
      "171 [4, 7, 2, 5, 3, 6] str: Repeat is the best medicine for memory\n",
      "172 [4, 7, 2, 5, 3, 6] str: Repeat is the best medicine for memory\n",
      "173 [4, 7, 2, 5, 3, 6] str: Repeat is the best medicine for memory\n",
      "174 [4, 7, 2, 5, 3, 6] str: Repeat is the best medicine for memory\n",
      "175 [4, 7, 2, 5, 3, 6] str: Repeat is the best medicine for memory\n",
      "176 [4, 7, 2, 5, 3, 6] str: Repeat is the best medicine for memory\n",
      "177 [4, 7, 2, 5, 3, 6] str: Repeat is the best medicine for memory\n",
      "178 [4, 7, 2, 5, 3, 6] str: Repeat is the best medicine for memory\n",
      "179 [4, 7, 2, 5, 3, 6] str: Repeat is the best medicine for memory\n",
      "180 [4, 7, 2, 5, 3, 6] str: Repeat is the best medicine for memory\n",
      "181 [4, 7, 2, 5, 3, 6] str: Repeat is the best medicine for memory\n",
      "182 [4, 7, 2, 5, 3, 6] str: Repeat is the best medicine for memory\n",
      "183 [4, 7, 2, 5, 3, 6] str: Repeat is the best medicine for memory\n",
      "184 [4, 7, 2, 5, 3, 6] str: Repeat is the best medicine for memory\n",
      "185 [4, 7, 2, 5, 3, 6] str: Repeat is the best medicine for memory\n",
      "186 [4, 7, 2, 5, 3, 6] str: Repeat is the best medicine for memory\n",
      "187 [4, 7, 2, 5, 3, 6] str: Repeat is the best medicine for memory\n",
      "188 [4, 7, 2, 5, 3, 6] str: Repeat is the best medicine for memory\n",
      "189 [4, 7, 2, 5, 3, 6] str: Repeat is the best medicine for memory\n",
      "190 [4, 7, 2, 5, 3, 6] str: Repeat is the best medicine for memory\n",
      "191 [4, 7, 2, 5, 3, 6] str: Repeat is the best medicine for memory\n",
      "192 [4, 7, 2, 5, 3, 6] str: Repeat is the best medicine for memory\n",
      "193 [4, 7, 2, 5, 3, 6] str: Repeat is the best medicine for memory\n",
      "194 [4, 7, 2, 5, 3, 6] str: Repeat is the best medicine for memory\n",
      "195 [4, 7, 2, 5, 3, 6] str: Repeat is the best medicine for memory\n",
      "196 [4, 7, 2, 5, 3, 6] str: Repeat is the best medicine for memory\n",
      "197 [4, 7, 2, 5, 3, 6] str: Repeat is the best medicine for memory\n",
      "198 [4, 7, 2, 5, 3, 6] str: Repeat is the best medicine for memory\n",
      "199 [4, 7, 2, 5, 3, 6] str: Repeat is the best medicine for memory\n"
     ]
    }
   ],
   "source": [
    "for step in range(200):\n",
    "    optimizer.zero_grad()\n",
    "    output=model(X)\n",
    "    loss=loss_func(output, Y.view(-1))\n",
    "    loss.backward()\n",
    "    optimizer.step()\n",
    "\n",
    "    pred=output.softmax(-1).argmax(-1).tolist()\n",
    "    \n",
    "    print(step, pred, 'str:', ' '.join(['Repeat']+decode(pred)))\n"
   ]
  }
 ],
 "metadata": {
  "kernelspec": {
   "display_name": "base",
   "language": "python",
   "name": "python3"
  },
  "language_info": {
   "codemirror_mode": {
    "name": "ipython",
    "version": 3
   },
   "file_extension": ".py",
   "mimetype": "text/x-python",
   "name": "python",
   "nbconvert_exporter": "python",
   "pygments_lexer": "ipython3",
   "version": "3.12.7"
  }
 },
 "nbformat": 4,
 "nbformat_minor": 2
}
