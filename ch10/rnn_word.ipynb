{
 "cells": [
  {
   "cell_type": "code",
   "execution_count": 1,
   "metadata": {},
   "outputs": [],
   "source": [
    "import torch\n",
    "import torch.nn as nn\n",
    "import torch.optim as optim\n",
    "import numpy as np"
   ]
  },
  {
   "cell_type": "code",
   "execution_count": 2,
   "metadata": {},
   "outputs": [
    {
     "name": "stdout",
     "output_type": "stream",
     "text": [
      "['Repeat', 'is', 'the', 'best', 'medicine', 'for', 'memory']\n"
     ]
    }
   ],
   "source": [
    "sentence = \"Repeat is the best medicine for memory\".split()\n",
    "print(sentence)"
   ]
  },
  {
   "cell_type": "code",
   "execution_count": 3,
   "metadata": {},
   "outputs": [
    {
     "name": "stdout",
     "output_type": "stream",
     "text": [
      "['Repeat', 'best', 'for', 'is', 'medicine', 'memory', 'the']\n"
     ]
    }
   ],
   "source": [
    "vocab=sorted(list(set(sentence)))\n",
    "print(vocab)"
   ]
  },
  {
   "cell_type": "code",
   "execution_count": 4,
   "metadata": {},
   "outputs": [
    {
     "data": {
      "text/plain": [
       "7"
      ]
     },
     "execution_count": 4,
     "metadata": {},
     "output_type": "execute_result"
    }
   ],
   "source": [
    "vocab_size=len(vocab)\n",
    "vocab_size"
   ]
  },
  {
   "cell_type": "code",
   "execution_count": 10,
   "metadata": {},
   "outputs": [
    {
     "name": "stdout",
     "output_type": "stream",
     "text": [
      "{'Repeat': 1, 'best': 2, 'for': 3, 'is': 4, 'medicine': 5, 'memory': 6, 'the': 7}\n",
      "{'Repeat': 1, 'best': 2, 'for': 3, 'is': 4, 'medicine': 5, 'memory': 6, 'the': 7, '<unk>': 0}\n"
     ]
    }
   ],
   "source": [
    "word_to_index={tkn:i for i, tkn in enumerate(vocab,1)}\n",
    "print(word_to_index)\n",
    "word_to_index['<unk>']=0\n",
    "print(word_to_index)"
   ]
  },
  {
   "cell_type": "code",
   "execution_count": 12,
   "metadata": {},
   "outputs": [
    {
     "name": "stdout",
     "output_type": "stream",
     "text": [
      "3\n",
      "[1, 4, 7, 2, 5, 3, 6]\n"
     ]
    }
   ],
   "source": [
    "print(word_to_index['for'])\n",
    "encode=[word_to_index[t] for t in sentence]\n",
    "print(encode)"
   ]
  },
  {
   "cell_type": "code",
   "execution_count": 16,
   "metadata": {},
   "outputs": [],
   "source": [
    "def build_data(sentence, word_to_index):\n",
    "    encode=[word_to_index[t] for t in sentence]\n",
    "    input_seq=encode[:-1]\n",
    "    label_seq=encode[1:]\n",
    "    input_seq=torch.LongTensor(input_seq).unsqueeze(0)\n",
    "    label_seq=torch.LongTensor([label_seq])\n",
    "    return input_seq, label_seq"
   ]
  },
  {
   "cell_type": "code",
   "execution_count": 17,
   "metadata": {},
   "outputs": [
    {
     "name": "stdout",
     "output_type": "stream",
     "text": [
      "tensor([[1, 4, 7, 2, 5, 3]])\n",
      "tensor([[4, 7, 2, 5, 3, 6]])\n"
     ]
    }
   ],
   "source": [
    "X,Y=build_data(sentence, word_to_index)\n",
    "print(X)\n",
    "print(Y)"
   ]
  },
  {
   "cell_type": "code",
   "execution_count": 18,
   "metadata": {},
   "outputs": [],
   "source": [
    "class Net(nn.Module):\n",
    "    def __init__(self, vocab_size, input_size, hidden_size, batch_first=True):\n",
    "        super(Net, self).__init__()\n",
    "\n",
    "        self.embedding_layer=nn.Embedding(num_embeddings=vocab_size,\n",
    "                                          embedding_dim=input_size)\n",
    "        self.rnn=nn.RNN(input_size, hidden_size, batch_first=batch_first)\n",
    "        self.fc=nn.Linear(hidden_size, vocab_size)\n",
    "\n",
    "    def forward(self, x):\n",
    "        output=self.embedding_layer(x)\n",
    "        #임베딩층 : 크기변화(배치크기, 시퀀스 길이)=>(배치크기, 시퀀스길이, 임베딩 차원)\n",
    "\n",
    "        output, hidden=self.rnn(output)\n",
    "        #RNN층 : 크기변화(배치크기, 시퀀스 길이, 임베딩 차원)=>\n",
    "        # output:(배치크기, 시퀀스 길이, 은닉층 크기)\n",
    "        # hidden:(1, 배치크기, 은닉층크기)\n",
    "\n",
    "        output=self.fc(output)\n",
    "        #크기변화: (배치크기, 시퀀스 길이, 단어장 크기)=>(배치크기*시퀀스길이, 단어장 크기)\n",
    "        \n",
    "        return output.view(-1, output.size(2))"
   ]
  }
 ],
 "metadata": {
  "kernelspec": {
   "display_name": "base",
   "language": "python",
   "name": "python3"
  },
  "language_info": {
   "codemirror_mode": {
    "name": "ipython",
    "version": 3
   },
   "file_extension": ".py",
   "mimetype": "text/x-python",
   "name": "python",
   "nbconvert_exporter": "python",
   "pygments_lexer": "ipython3",
   "version": "3.12.7"
  }
 },
 "nbformat": 4,
 "nbformat_minor": 2
}
