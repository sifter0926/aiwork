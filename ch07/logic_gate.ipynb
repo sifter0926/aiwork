{
 "cells": [
  {
   "cell_type": "code",
   "execution_count": 2,
   "metadata": {},
   "outputs": [],
   "source": [
    "import numpy as np\n",
    "def AND_gate(x):\n",
    "    w1=0.5\n",
    "    w2=0.5\n",
    "    b=-0.7\n",
    "\n",
    "    result =x[0]*w1 + x[1]*w2 + b\n",
    "    if result <=0:\n",
    "        return 0\n",
    "    else:\n",
    "        return 1"
   ]
  },
  {
   "cell_type": "code",
   "execution_count": 3,
   "metadata": {},
   "outputs": [],
   "source": [
    "def OR_gate(x):\n",
    "    w1=0.6\n",
    "    w2=0.6\n",
    "    b=-0.5\n",
    "    result =x[0]*w1 + x[1]*w2 + b\n",
    "    if result <=0:\n",
    "        return 0\n",
    "    else:\n",
    "        return 1"
   ]
  },
  {
   "cell_type": "code",
   "execution_count": 4,
   "metadata": {},
   "outputs": [],
   "source": [
    "def NAND_gate(x):\n",
    "    w1=-0.5\n",
    "    w2=-0.5\n",
    "    b=0.7\n",
    "\n",
    "    result =x[0]*w1 + x[1]*w2 + b\n",
    "    if result <=0:\n",
    "        return 0\n",
    "    else:\n",
    "        return 1"
   ]
  },
  {
   "cell_type": "code",
   "execution_count": 5,
   "metadata": {},
   "outputs": [
    {
     "name": "stdout",
     "output_type": "stream",
     "text": [
      "[1, 1, 1, 0]\n"
     ]
    }
   ],
   "source": [
    "input_data=np.array([[0,0],[0,1],[1,0],[1,1]])\n",
    "result=[]\n",
    "for x in input_data:\n",
    "    result.append(NAND_gate(x))\n",
    "\n",
    "print(result)"
   ]
  },
  {
   "cell_type": "code",
   "execution_count": 6,
   "metadata": {},
   "outputs": [
    {
     "name": "stdout",
     "output_type": "stream",
     "text": [
      "[1, 0]\n",
      "[1, 1]\n",
      "[1, 1]\n",
      "[0, 1]\n",
      "[0, 1, 1, 0]\n"
     ]
    }
   ],
   "source": [
    "input_data=np.array([[0,0],[0,1],[1,0],[1,1]])\n",
    "s1=[] # NAND의 결과\n",
    "s2=[] # OR의 결과\n",
    "new_input=[] #s1, s2을로 AND의 입력값 저장 배열\n",
    "final_result=[] \n",
    "\n",
    "for i in range(len(input_data)):\n",
    "    s1=NAND_gate(input_data[i])\n",
    "    s2=OR_gate(input_data[i])\n",
    "\n",
    "    new_input.append(s1)\n",
    "    new_input.append(s2)\n",
    "    print(new_input)\n",
    "    result=AND_gate(new_input)\n",
    "    final_result.append(result)\n",
    "    new_input=[]\n",
    "\n",
    "print(final_result)"
   ]
  },
  {
   "cell_type": "code",
   "execution_count": 7,
   "metadata": {},
   "outputs": [],
   "source": [
    "import torch\n",
    "import torch.nn as nn\n",
    "import torch.optim as optim\n",
    "\n",
    "X=torch.FloatTensor([[0,0],[0,1],[1,0],[1,1]])\n",
    "Y=torch.FloatTensor([[0],[1],[1],[0]])\n",
    "\n",
    "linear=nn.Linear(2,1, bias=True)\n",
    "simoid=nn.Sigmoid()\n",
    "model=nn.Sequential(linear, simoid)\n",
    "criterion=nn.BCELoss()\n",
    "optimirzer=optim.SGD(model.parameters(), lr=1)"
   ]
  },
  {
   "cell_type": "code",
   "execution_count": 8,
   "metadata": {},
   "outputs": [
    {
     "name": "stdout",
     "output_type": "stream",
     "text": [
      "0 0.7235149145126343\n",
      "100 0.6931473016738892\n",
      "200 0.6931471824645996\n",
      "300 0.6931471228599548\n",
      "400 0.6931471824645996\n",
      "500 0.6931471824645996\n",
      "600 0.6931471824645996\n",
      "700 0.6931471824645996\n",
      "800 0.6931471824645996\n",
      "900 0.6931471824645996\n",
      "1000 0.6931471824645996\n",
      "1100 0.6931471824645996\n",
      "1200 0.6931471824645996\n",
      "1300 0.6931471824645996\n",
      "1400 0.6931471824645996\n",
      "1500 0.6931471824645996\n",
      "1600 0.6931471824645996\n",
      "1700 0.6931471824645996\n",
      "1800 0.6931471824645996\n",
      "1900 0.6931471824645996\n",
      "2000 0.6931471824645996\n",
      "2100 0.6931471824645996\n",
      "2200 0.6931471824645996\n",
      "2300 0.6931471824645996\n",
      "2400 0.6931471824645996\n",
      "2500 0.6931471824645996\n",
      "2600 0.6931471824645996\n",
      "2700 0.6931471824645996\n",
      "2800 0.6931471824645996\n",
      "2900 0.6931471824645996\n",
      "3000 0.6931471824645996\n",
      "3100 0.6931471824645996\n",
      "3200 0.6931471824645996\n",
      "3300 0.6931471824645996\n",
      "3400 0.6931471824645996\n",
      "3500 0.6931471824645996\n",
      "3600 0.6931471824645996\n",
      "3700 0.6931471824645996\n",
      "3800 0.6931471824645996\n",
      "3900 0.6931471824645996\n",
      "4000 0.6931471824645996\n",
      "4100 0.6931471824645996\n",
      "4200 0.6931471824645996\n",
      "4300 0.6931471824645996\n",
      "4400 0.6931471824645996\n",
      "4500 0.6931471824645996\n",
      "4600 0.6931471824645996\n",
      "4700 0.6931471824645996\n",
      "4800 0.6931471824645996\n",
      "4900 0.6931471824645996\n",
      "5000 0.6931471824645996\n",
      "5100 0.6931471824645996\n",
      "5200 0.6931471824645996\n",
      "5300 0.6931471824645996\n",
      "5400 0.6931471824645996\n",
      "5500 0.6931471824645996\n",
      "5600 0.6931471824645996\n",
      "5700 0.6931471824645996\n",
      "5800 0.6931471824645996\n",
      "5900 0.6931471824645996\n",
      "6000 0.6931471824645996\n",
      "6100 0.6931471824645996\n",
      "6200 0.6931471824645996\n",
      "6300 0.6931471824645996\n",
      "6400 0.6931471824645996\n",
      "6500 0.6931471824645996\n",
      "6600 0.6931471824645996\n",
      "6700 0.6931471824645996\n",
      "6800 0.6931471824645996\n",
      "6900 0.6931471824645996\n",
      "7000 0.6931471824645996\n",
      "7100 0.6931471824645996\n",
      "7200 0.6931471824645996\n",
      "7300 0.6931471824645996\n",
      "7400 0.6931471824645996\n",
      "7500 0.6931471824645996\n",
      "7600 0.6931471824645996\n",
      "7700 0.6931471824645996\n",
      "7800 0.6931471824645996\n",
      "7900 0.6931471824645996\n",
      "8000 0.6931471824645996\n",
      "8100 0.6931471824645996\n",
      "8200 0.6931471824645996\n",
      "8300 0.6931471824645996\n",
      "8400 0.6931471824645996\n",
      "8500 0.6931471824645996\n",
      "8600 0.6931471824645996\n",
      "8700 0.6931471824645996\n",
      "8800 0.6931471824645996\n",
      "8900 0.6931471824645996\n",
      "9000 0.6931471824645996\n",
      "9100 0.6931471824645996\n",
      "9200 0.6931471824645996\n",
      "9300 0.6931471824645996\n",
      "9400 0.6931471824645996\n",
      "9500 0.6931471824645996\n",
      "9600 0.6931471824645996\n",
      "9700 0.6931471824645996\n",
      "9800 0.6931471824645996\n",
      "9900 0.6931471824645996\n",
      "10000 0.6931471824645996\n"
     ]
    }
   ],
   "source": [
    "for step in range(10001):\n",
    "    optimirzer.zero_grad()\n",
    "    h=model(X)\n",
    "\n",
    "    cost=criterion(h, Y)\n",
    "    cost.backward()\n",
    "    optimirzer.step()\n",
    "\n",
    "    if step % 100==0:\n",
    "        print(step, cost.item())"
   ]
  },
  {
   "cell_type": "code",
   "execution_count": 9,
   "metadata": {},
   "outputs": [
    {
     "name": "stdout",
     "output_type": "stream",
     "text": [
      "tensor([[0.],\n",
      "        [0.],\n",
      "        [0.],\n",
      "        [0.]])\n"
     ]
    }
   ],
   "source": [
    "predictions=model(X)\n",
    "print((predictions>0.5).float())"
   ]
  },
  {
   "cell_type": "markdown",
   "metadata": {},
   "source": [
    "딥러닝 활용 XOR"
   ]
  },
  {
   "cell_type": "code",
   "execution_count": 10,
   "metadata": {},
   "outputs": [],
   "source": [
    "X=torch.FloatTensor([[0,0],[0,1],[1,0],[1,1]])\n",
    "Y=torch.FloatTensor([[0],[1],[1],[0]])"
   ]
  },
  {
   "cell_type": "code",
   "execution_count": 11,
   "metadata": {},
   "outputs": [],
   "source": [
    "model=nn.Sequential(\n",
    "    nn.Linear(2, 10, bias=True),\n",
    "    nn.Sigmoid(),\n",
    "    nn.Linear(10,10, bias=True),\n",
    "    nn.Sigmoid(),\n",
    "    nn.Linear(10,10, bias=True),\n",
    "    nn.Sigmoid(),\n",
    "    nn.Linear(10, 1, bias=True),\n",
    "    nn.Sigmoid()\n",
    ")"
   ]
  },
  {
   "cell_type": "code",
   "execution_count": 12,
   "metadata": {},
   "outputs": [],
   "source": [
    "criterion=nn.BCELoss()\n",
    "optimirzer=optim.SGD(model.parameters(), lr=1)"
   ]
  },
  {
   "cell_type": "code",
   "execution_count": 13,
   "metadata": {},
   "outputs": [
    {
     "name": "stdout",
     "output_type": "stream",
     "text": [
      "0 0.6985701322555542\n",
      "100 0.6931524276733398\n",
      "200 0.693151593208313\n",
      "300 0.6931506991386414\n",
      "400 0.6931498646736145\n",
      "500 0.6931490302085876\n",
      "600 0.6931481957435608\n",
      "700 0.6931473612785339\n",
      "800 0.6931465864181519\n",
      "900 0.693145751953125\n",
      "1000 0.6931449174880981\n",
      "1100 0.6931440830230713\n",
      "1200 0.6931430697441101\n",
      "1300 0.6931421756744385\n",
      "1400 0.6931412816047668\n",
      "1500 0.6931403875350952\n",
      "1600 0.6931393146514893\n",
      "1700 0.6931383013725281\n",
      "1800 0.6931373476982117\n",
      "1900 0.6931362748146057\n",
      "2000 0.6931350827217102\n",
      "2100 0.6931338906288147\n",
      "2200 0.6931326389312744\n",
      "2300 0.6931313276290894\n",
      "2400 0.6931299567222595\n",
      "2500 0.6931284666061401\n",
      "2600 0.6931268572807312\n",
      "2700 0.6931252479553223\n",
      "2800 0.6931234002113342\n",
      "2900 0.6931214928627014\n",
      "3000 0.693119466304779\n",
      "3100 0.6931172013282776\n",
      "3200 0.6931148171424866\n",
      "3300 0.6931121945381165\n",
      "3400 0.6931092739105225\n",
      "3500 0.6931061744689941\n",
      "3600 0.6931027173995972\n",
      "3700 0.6930989027023315\n",
      "3800 0.6930946111679077\n",
      "3900 0.6930898427963257\n",
      "4000 0.6930844783782959\n",
      "4100 0.6930785179138184\n",
      "4200 0.6930716633796692\n",
      "4300 0.6930638551712036\n",
      "4400 0.6930547952651978\n",
      "4500 0.6930443048477173\n",
      "4600 0.6930320262908936\n",
      "4700 0.6930174827575684\n",
      "4800 0.6929998993873596\n",
      "4900 0.6929786205291748\n",
      "5000 0.6929521560668945\n",
      "5100 0.6929190158843994\n",
      "5200 0.6928762793540955\n",
      "5300 0.6928196549415588\n",
      "5400 0.6927427649497986\n",
      "5500 0.6926335692405701\n",
      "5600 0.692470908164978\n",
      "5700 0.6922118663787842\n",
      "5800 0.6917610168457031\n",
      "5900 0.6908680200576782\n",
      "6000 0.6887091398239136\n",
      "6100 0.6813600063323975\n",
      "6200 0.6362019181251526\n",
      "6300 0.7137939929962158\n",
      "6400 0.02316385507583618\n",
      "6500 0.007105225697159767\n",
      "6600 0.0039004283025860786\n",
      "6700 0.002619978506118059\n",
      "6800 0.0019478569738566875\n",
      "6900 0.0015388814499601722\n",
      "7000 0.0012659116182476282\n",
      "7100 0.001071734121069312\n",
      "7200 0.0009270139271393418\n",
      "7300 0.0008152492810040712\n",
      "7400 0.0007265575113706291\n",
      "7500 0.00065456866286695\n",
      "7600 0.0005950137274339795\n",
      "7700 0.0005449746968224645\n",
      "7800 0.0005023857811465859\n",
      "7900 0.00046574242878705263\n",
      "8000 0.00043386337347328663\n",
      "8100 0.0004059355123899877\n",
      "8200 0.00038123526610434055\n",
      "8300 0.00035927360295318067\n",
      "8400 0.0003396073298063129\n",
      "8500 0.0003218994243070483\n",
      "8600 0.000305883411783725\n",
      "8700 0.00029132311465218663\n",
      "8800 0.0002780659997370094\n",
      "8900 0.00026588834589347243\n",
      "9000 0.000254703190876171\n",
      "9100 0.0002443974371999502\n",
      "9200 0.00023483388940803707\n",
      "9300 0.0002260011970065534\n",
      "9400 0.00021777444635517895\n",
      "9500 0.0002100931596942246\n",
      "9600 0.00020293035777285695\n",
      "9700 0.00019623231492005289\n",
      "9800 0.00018994930724147707\n",
      "9900 0.00018400333647150546\n",
      "10000 0.0001784541382221505\n"
     ]
    }
   ],
   "source": [
    "for epoch in range(10001):\n",
    "    optimirzer.zero_grad()\n",
    "    h1=model(X)\n",
    "    cost=criterion(h1, Y)\n",
    "    cost.backward()\n",
    "    optimirzer.step()\n",
    "\n",
    "    if epoch % 100 ==0:\n",
    "        print(epoch, cost.item())"
   ]
  },
  {
   "cell_type": "code",
   "execution_count": 14,
   "metadata": {},
   "outputs": [
    {
     "name": "stdout",
     "output_type": "stream",
     "text": [
      "tensor([[0.],\n",
      "        [1.],\n",
      "        [1.],\n",
      "        [0.]])\n"
     ]
    }
   ],
   "source": [
    "pred=model(X)\n",
    "print((pred>0.5).float())"
   ]
  },
  {
   "cell_type": "markdown",
   "metadata": {},
   "source": [
    "tanh 함수 "
   ]
  },
  {
   "cell_type": "code",
   "execution_count": 18,
   "metadata": {},
   "outputs": [],
   "source": [
    "x=np.arange(-10.0, 10.0, 0.1)\n",
    "y=np.tanh(x)\n"
   ]
  },
  {
   "cell_type": "code",
   "execution_count": 16,
   "metadata": {},
   "outputs": [],
   "source": [
    "import os\n",
    "os.environ['KMP_DUPLICATE_LIB_OK']='True'  # matplotlib.pyplot 사용 커널 충돌"
   ]
  },
  {
   "cell_type": "code",
   "execution_count": 19,
   "metadata": {},
   "outputs": [
    {
     "data": {
      "image/png": "[encoded data removed]",
      "text/plain": [
       "<Figure size 640x480 with 1 Axes>"
      ]
     },
     "metadata": {},
     "output_type": "display_data"
    }
   ],
   "source": [
    "import matplotlib.pyplot as plt\n",
    "plt.plot(x,y)\n",
    "plt.plot([0,0],[1.0, -1.0])\n",
    "plt.axhline(y=0, color='red', linestyle='--')\n",
    "plt.title('Tanh function')\n",
    "plt.show()"
   ]
  },
  {
   "cell_type": "code",
   "execution_count": 22,
   "metadata": {},
   "outputs": [
    {
     "data": {
      "image/png": "[encoded data removed]",
      "text/plain": [
       "<Figure size 640x480 with 1 Axes>"
      ]
     },
     "metadata": {},
     "output_type": "display_data"
    }
   ],
   "source": [
    "def relu(x):\n",
    "    return np.maximum(0,x)\n",
    "\n",
    "x=np.arange(-5.0, 5.0, 0.1)\n",
    "y=relu(x)\n",
    "\n",
    "plt.plot(x,y)\n",
    "plt.plot([0,0],[5.0, 0.0])\n",
    "plt.title('Ralu function')\n",
    "plt.show()\n",
    "\n"
   ]
  },
  {
   "cell_type": "code",
   "execution_count": 24,
   "metadata": {},
   "outputs": [
    {
     "data": {
      "image/png": "[encoded data removed]",
      "text/plain": [
       "<Figure size 640x480 with 1 Axes>"
      ]
     },
     "metadata": {},
     "output_type": "display_data"
    }
   ],
   "source": [
    "a=0.1\n",
    "\n",
    "def leaky_relu(x):\n",
    "    return np.maximum(a*x, x)\n",
    "\n",
    "x=np.arange(-5.0, 5.0, 0.1)\n",
    "y=leaky_relu(x)\n",
    "\n",
    "plt.plot(x,y)\n",
    "plt.plot([0,0],[5.0, 0.0])\n",
    "plt.title('Leaky Ralu function')\n",
    "plt.show()\n",
    "\n"
   ]
  }
 ],
 "metadata": {
  "kernelspec": {
   "display_name": "base",
   "language": "python",
   "name": "python3"
  },
  "language_info": {
   "codemirror_mode": {
    "name": "ipython",
    "version": 3
   },
   "file_extension": ".py",
   "mimetype": "text/x-python",
   "name": "python",
   "nbconvert_exporter": "python",
   "pygments_lexer": "ipython3",
   "version": "3.12.7"
  }
 },
 "nbformat": 4,
 "nbformat_minor": 2
}
